{
 "cells": [
  {
   "cell_type": "markdown",
   "metadata": {
    "toc": true
   },
   "source": [
    "<h1>Table of Contents<span class=\"tocSkip\"></span></h1>\n",
    "<div class=\"toc\"><ul class=\"toc-item\"></ul></div>"
   ]
  },
  {
   "cell_type": "code",
   "execution_count": 4,
   "metadata": {},
   "outputs": [],
   "source": [
    "import matplotlib.pyplot as plt\n",
    "import cv2\n",
    "from pdf2image import convert_from_path\n",
    "import numpy as np\n",
    "import pytesseract\n",
    "pytesseract.pytesseract.tesseract_cmd = r'C:\\Program Files\\Tesseract-OCR\\tesseract.exe'"
   ]
  },
  {
   "cell_type": "code",
   "execution_count": 5,
   "metadata": {},
   "outputs": [],
   "source": [
    "class Preprocessing_PDF():\n",
    "    \"\"\"Preprocesses the pdf document object with the method preprocessing and \n",
    "    saves the result with the method save_preprocessing_images\"\"\"\n",
    "\n",
    "    def __init__(self, path, file_name):\n",
    "        self.path = path\n",
    "        self.file_name = file_name\n",
    "\n",
    "\n",
    "    def preprocessing(self):\n",
    "        pdf_file=convert_from_path(self.file_name, dpi=600)\n",
    "        processed_images={}\n",
    "        i=1\n",
    "        grey,blur,binarized,threshold = 0,0,0,0\n",
    "        #Loops over the pages of the pdf\n",
    "        for page in pdf_file:\n",
    "            #Converts the pdf to an image and convert it to grayscale\n",
    "            grey = cv2.cvtColor(np.array(page), cv2.COLOR_BGR2GRAY)\n",
    "            #Adds Gaussian blur to the grayscale image\n",
    "            blur = cv2.GaussianBlur(grey,(5,5),0)\n",
    "            #Binarizes the Gaussian blured image\n",
    "            th,binarized= cv2.threshold(blur,0,255,cv2.THRESH_BINARY+cv2.THRESH_OTSU)\n",
    "            #Saves the preprocessed images in a dictionnary\n",
    "            processed_images[f'page_{i}']=binarized\n",
    "            i=i+1\n",
    "        return processed_images\n",
    "\n",
    "\n",
    "    def save_preprocessing_images(self):\n",
    "        i=1\n",
    "        #Loops over the images in the dictionnary\n",
    "        for image in self.preprocessing().values():\n",
    "            #Saves the image\n",
    "            cv2.imwrite(f'page_{i}.png', image)\n",
    "            i=i+1\n",
    "        print(\"images have been successfully saved\")"
   ]
  },
  {
   "cell_type": "code",
   "execution_count": 21,
   "metadata": {},
   "outputs": [],
   "source": [
    "class Zonification():\n",
    "    \"\"\"Identifies blocks of text in the preprocessed image, crops the corresponding image and reads the content.\n",
    "    Returns a text file with the corresponding text\"\"\"\n",
    "    \n",
    "    def __init__(self, path, file_name):\n",
    "        self.path = path\n",
    "        self.file_name = file_name\n",
    "        self.preprocessed = Preprocessing_PDF(self.path, self.file_name)\n",
    "        \n",
    "    def zone_identification(self):\n",
    "        image_blocks = {}\n",
    "        j,k=0,1\n",
    "        kernel_size=(25,25)\n",
    "        #Loops over the preprocessed pages \n",
    "        for page in self.preprocessed.preprocessing().values():\n",
    "            #Creates a canny image of each page\n",
    "            edged = cv2.Canny(page, 30, 200)\n",
    "            # Create rectangular structuring element and dilate\n",
    "            kernel = cv2.getStructuringElement(cv2.MORPH_RECT, kernel_size)\n",
    "            dilate = cv2.dilate(edged, kernel, iterations=4)\n",
    "            # Find contours and draw rectangle\n",
    "            contours = cv2.findContours(dilate, cv2.RETR_EXTERNAL, cv2.CHAIN_APPROX_SIMPLE)\n",
    "            contours = contours[0] if len(contours) == 2 else contours[1]\n",
    "            #Loops over the zones \n",
    "            for contour in contours:\n",
    "                x,y,w,h = cv2.boundingRect(contour)\n",
    "                cv2.rectangle(img=page, pt1=(x, y), pt2=(x + w , y + h), color=(0,42,93), thickness=3)\n",
    "                j=j+1\n",
    "                #Saves the block in the image_block dictionnary\n",
    "                image_blocks[\"bloc_\"+str(j)]= page[y:y+h , x:x+w]\n",
    "            #Saves the images with the contour\n",
    "            cv2.imwrite(\"page_with_contours_\"+str(k)+\".png\", page)\n",
    "            k=k+1\n",
    "        return image_blocks\n",
    "    \n",
    "    \n",
    "    def block_image_text_comparison(self):\n",
    "        block_number=0\n",
    "        for block in self.zone_identification().values():\n",
    "            plt.figure()\n",
    "            plt.imshow(block,cmap='Greys_r')\n",
    "            plt.title(\"Texte extrait \"+\"block_\"+str(block_number)+\" :\"+pytesseract.image_to_string(block, config='--psm 6')+\"\\n\")\n",
    "            block_number=block_number+1\n",
    "\n",
    "            \n",
    "    def save_extracted_text(self):\n",
    "        extracted_text_file = open(\"extracted_text.txt\",\"w\", encoding='utf8')\n",
    "        for block in self.zone_identification().values():\n",
    "            extracted_text_file.write(pytesseract.image_to_string(block, config='--psm 6')+\"\\n\")\n",
    "        print(\"extracted text has successfully been saved\")\n",
    "    "
   ]
  },
  {
   "cell_type": "code",
   "execution_count": 38,
   "metadata": {},
   "outputs": [
    {
     "name": "stdout",
     "output_type": "stream",
     "text": [
      "images have been successfully saved\n"
     ]
    }
   ],
   "source": [
    "file_path='invoice.pdf'\n",
    "file_name='invoice.pdf'\n",
    "preprocessed_pdf_file = Preprocessing_PDF(file_path,file_name)\n",
    "preprocessed_pdf_file.preprocessing()\n",
    "preprocessed_pdf_file.save_preprocessing_images()"
   ]
  },
  {
   "cell_type": "code",
   "execution_count": 22,
   "metadata": {},
   "outputs": [],
   "source": [
    "zonified = Zonification(file_path,file_name)\n",
    "zonified.save_extracted_text()"
   ]
  },
  {
   "cell_type": "code",
   "execution_count": null,
   "metadata": {},
   "outputs": [],
   "source": []
  }
 ],
 "metadata": {
  "kernelspec": {
   "display_name": "Python 3",
   "language": "python",
   "name": "python3"
  },
  "language_info": {
   "codemirror_mode": {
    "name": "ipython",
    "version": 3
   },
   "file_extension": ".py",
   "mimetype": "text/x-python",
   "name": "python",
   "nbconvert_exporter": "python",
   "pygments_lexer": "ipython3",
   "version": "3.7.4"
  },
  "toc": {
   "base_numbering": 1,
   "nav_menu": {},
   "number_sections": true,
   "sideBar": true,
   "skip_h1_title": false,
   "title_cell": "Table of Contents",
   "title_sidebar": "Contents",
   "toc_cell": true,
   "toc_position": {},
   "toc_section_display": true,
   "toc_window_display": true
  }
 },
 "nbformat": 4,
 "nbformat_minor": 2
}
